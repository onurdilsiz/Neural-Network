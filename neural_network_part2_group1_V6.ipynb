{
 "cells": [
  {
   "cell_type": "markdown",
   "id": "de34c7d1-02a3-4278-8077-722d54effe6b",
   "metadata": {},
   "source": [
    "# Neural Networks (part 2)"
   ]
  },
  {
   "cell_type": "markdown",
   "id": "ed376cc7-3200-4c2c-9ed6-5bdf65ed383e",
   "metadata": {},
   "source": [
    "## 1. Introduction \n",
    "In this notebook you create a NN for recognizing handwritten digits."
   ]
  },
  {
   "cell_type": "markdown",
   "id": "d6f6f620-a36c-4ac6-b26e-a49e77ae7a82",
   "metadata": {},
   "source": [
    "## 2. Loading the data\n",
    "\n",
    "You make use of the MNIST dataset. The dataset consists of 70000 images of 28$\\times$28 pixels (each pixel has a gray value 0 - 255). The dataset can be downloaded from the internet (see code below)."
   ]
  },
  {
   "cell_type": "code",
   "execution_count": 1,
   "id": "5b3b3dcc-4f13-4a30-a3f4-aec9a5dda20e",
   "metadata": {},
   "outputs": [],
   "source": [
    "# importing the required modules\n",
    "import numpy as np\n",
    "import matplotlib.pyplot as plt\n",
    "import random as random\n",
    "\n",
    "# to get matplot figures render correctly in the notebook use:\n",
    "%matplotlib inline "
   ]
  },
  {
   "cell_type": "code",
   "execution_count": 2,
   "id": "37b2519c-448c-4d77-a9e3-514e6e6a3b79",
   "metadata": {},
   "outputs": [
    {
     "name": "stdout",
     "output_type": "stream",
     "text": [
      "(784, 70000)\n",
      "(70000,)\n"
     ]
    }
   ],
   "source": [
    "# Load data from https://www.openml.org/d/554\n",
    "\n",
    "from sklearn.datasets import fetch_openml\n",
    "X, y = fetch_openml('mnist_784', version=1, return_X_y=True, as_frame=False, parser='auto')\n",
    "X = X.T  # required as the rows should be the features and the columns the samples; shape (784, 70000).\n",
    "y = y.astype('int')  # y has values as strings ('0', '1', ...'9') and we want integers (0, 1, ..., 9)\n",
    "# inspect shape.\n",
    "print(X.shape)\n",
    "print(y.shape)\n"
   ]
  },
  {
   "cell_type": "markdown",
   "id": "cb86344f-77b4-4bc5-9061-497f50aa2abd",
   "metadata": {},
   "source": [
    "To have an idea of the data let's print a single sample"
   ]
  },
  {
   "cell_type": "code",
   "execution_count": 3,
   "id": "cb8c0c7c-680d-4db6-86e4-b310c0b8eb07",
   "metadata": {},
   "outputs": [
    {
     "name": "stdout",
     "output_type": "stream",
     "text": [
      "label = 5\n"
     ]
    },
    {
     "data": {
      "image/png": "[encoded data removed]",
      "text/plain": [
       "<Figure size 640x480 with 1 Axes>"
      ]
     },
     "metadata": {},
     "output_type": "display_data"
    }
   ],
   "source": [
    "sample = X[:, 0]  # sample number 1\n",
    "label = y[0]  # label of sample 1\n",
    "plt.imshow(sample.reshape(28,28))  # need to reshape to a square image of 28 by 28\n",
    "print(f'label = {label}')"
   ]
  },
  {
   "cell_type": "markdown",
   "id": "a7807286-9d96-4fbc-b30b-4edf423e375d",
   "metadata": {},
   "source": [
    "## 3. Create the feature matrix X and labels matrix Y\n"
   ]
  },
  {
   "cell_type": "code",
   "execution_count": 4,
   "id": "477b8da9-5139-4982-9e44-e0a4633f8c6a",
   "metadata": {},
   "outputs": [
    {
     "name": "stdout",
     "output_type": "stream",
     "text": [
      "(784, 70000)\n"
     ]
    }
   ],
   "source": [
    "# rescale feature matrix to values between 0 and 1\n",
    "  \n",
    "normalized_X = (X - np.min(X)) / (np.max(X) - np.min(X))\n",
    "print(normalized_X.shape)\n",
    "# print(normalized_X)\n",
    "#create one-hot encoded Y matrix\n",
    "##y= y.astype(int)\n",
    "labels = y.astype(int)\n",
    "Y_encoded = np.eye(10)[:, labels]"
   ]
  },
  {
   "cell_type": "code",
   "execution_count": 5,
   "id": "362360e3-30b0-4a52-ada7-3d8b1cfe0ed8",
   "metadata": {},
   "outputs": [],
   "source": [
    "# create a train, validation and test dataset\n",
    "# for the test data set take the first 5000 samples\n",
    "# for the train data set take sample 5001 to 60000\n",
    "# for the validation set take sample 60001 to 70000\n",
    "\n",
    "X_test  = normalized_X[:,:5000]\n",
    "X_train = normalized_X[:,5000:60000]\n",
    "X_valid = normalized_X[:,60000:] ##fine\n",
    "\n",
    "Y_test  = Y_encoded[:,:5000]\n",
    "Y_train = Y_encoded[:,5000:60000]\n",
    "Y_valid = Y_encoded[:,60000:] \n"
   ]
  },
  {
   "cell_type": "markdown",
   "id": "3912be91-33c3-4f2b-947f-43f6a142ebd4",
   "metadata": {},
   "source": [
    "## 4. The Neural Network\n",
    "\n",
    "The NN that you will make has the following layout (this is something that will work, but feel free to make changes if you like):\n",
    "\n",
    "- input layer ($l=0$): 784 nodes\n",
    "- hidden layer ($l=1$): 300 nodes; ReLu activation function\n",
    "- hidden layer ($l=2$): 100 nodes; ReLu activation function\n",
    "- output layer ($l=3$): 10 nodes; Softmax activation function\n"
   ]
  },
  {
   "cell_type": "markdown",
   "id": "91a2ea40-d343-413b-850f-ca28bb6224f7",
   "metadata": {},
   "source": [
    "### Define the activation functions\n",
    "\n",
    "Below you define the required activation functions and their derivatives."
   ]
  },
  {
   "cell_type": "code",
   "execution_count": 6,
   "id": "2ad24e42-6802-4977-9980-2e7bbb070d30",
   "metadata": {},
   "outputs": [],
   "source": [
    "# define some activation functions\n",
    "\n",
    "def relu(z):\n",
    "    \"\"\"\n",
    "    returns the ReLu function of z\n",
    "\n",
    "    Parameters\n",
    "    ----------\n",
    "    z : 2D ndarray\n",
    "\n",
    "    Returns\n",
    "    -------\n",
    "    out : same type and shape as z\n",
    "\n",
    "    \"\"\"\n",
    "    relu_z = np.maximum(0,z)\n",
    "    return relu_z\n",
    "\n",
    "def relu_diff(z):\n",
    "    \"\"\"\n",
    "    returns the derivative of the relu function of z\n",
    "\n",
    "    Parameters\n",
    "    ----------\n",
    "    z : 2D ndarray\n",
    "\n",
    "    Returns\n",
    "    -------\n",
    "    out : same type and shape as z\n",
    "\n",
    "    \"\"\"\n",
    "    z[z<=0] = 0\n",
    "    z[z>0] = 1\n",
    "    return z\n",
    "\n",
    "def softmax(z):\n",
    "    \"\"\"\n",
    "    returns the softmax function of z\n",
    "\n",
    "    Parameters\n",
    "    ----------\n",
    "    z : 2D ndarray\n",
    "\n",
    "    Returns\n",
    "    -------\n",
    "    out : same type and shape as z\n",
    "\n",
    "    \"\"\"\n",
    "  # Calculate the softmax function by dividing exp(z) by the sum of exp(z)\n",
    "    softmax_z = np.exp(z) / np.sum(np.exp(z), axis=0, keepdims=True)\n",
    "    \n",
    "    return softmax_z\n",
    "\n",
    "\n",
    "\n"
   ]
  },
  {
   "cell_type": "markdown",
   "id": "0bef5734-f28a-4f8b-84ec-69615694882f",
   "metadata": {},
   "source": [
    "### Initalize the weights and biases\n"
   ]
  },
  {
   "cell_type": "code",
   "execution_count": 7,
   "id": "9b598ebf-81d0-4247-a97a-4331b4485d04",
   "metadata": {},
   "outputs": [],
   "source": [
    "# intialize the neural network\n",
    "rng = np.random.default_rng()\n",
    "\n",
    "# number of nodes in each layer\n",
    "n0 = 784\n",
    "n1 = 300\n",
    "n2 = 100\n",
    "n3 = 10\n",
    "\n",
    "# input layer\n",
    "# no weights and biases\n",
    "\n",
    "# hidden layer 1 \n",
    "W1 = np.random.normal(0, 1/np.sqrt(n0), (n1, n0))\n",
    "b1 = np.random.normal(0, size= (n1, 1))\n",
    "\n",
    "# hidden layer 2 \n",
    "W2 = np.random.normal(0, 1/np.sqrt(n1), (n2, n1))\n",
    "b2 = np.random.normal(0, size= (n2, 1))\n",
    "\n",
    "# output layer \n",
    "W3 = np.random.normal(0, 1/np.sqrt(n2), (n3, n2))\n",
    "b3 = np.random.normal(0, size= (n3, 1))\n"
   ]
  },
  {
   "cell_type": "markdown",
   "id": "72a3e77b-d0c5-4985-ab01-83ac16565f7b",
   "metadata": {},
   "source": [
    "## 5. Train the NN"
   ]
  },
  {
   "cell_type": "markdown",
   "id": "1575b796-6773-406d-9b1d-29c6a5465db4",
   "metadata": {},
   "source": [
    "First you define three parameters that can be adjusted for optimal training.\n",
    "- **learning_rate**: determines to what extend we update the weights and biases in the gradient descent step\n",
    "- **no_epochs**: the number of times we pass the training data set through the network for training\n",
    "- **batch_size**: how many samples we pass through the network before doing a gradient descent update"
   ]
  },
  {
   "cell_type": "code",
   "execution_count": 8,
   "id": "bc699d56-c6d0-4aac-96c1-69e0a0499678",
   "metadata": {},
   "outputs": [],
   "source": [
    "# train settings\n",
    "learning_rate = 0.1\n",
    "no_epochs = 30\n",
    "batch_size = 100"
   ]
  },
  {
   "cell_type": "markdown",
   "id": "c61cf0f3-a4f0-4bc1-8490-3c8a07751ef5",
   "metadata": {},
   "source": [
    "Below you implement the training of the network. As a start copy and paste your code from part 1. Note that we use the **Cross Entropy** (CE) loss function."
   ]
  },
  {
   "cell_type": "code",
   "execution_count": 9,
   "id": "98101ed7-939d-4109-9259-6493588088fe",
   "metadata": {
    "scrolled": false
   },
   "outputs": [
    {
     "name": "stdout",
     "output_type": "stream",
     "text": [
      "Epoch 1/30: train_acc=90.96%\n",
      "Epoch 2/30: train_acc=93.75%\n",
      "Epoch 3/30: train_acc=95.23%\n",
      "Epoch 4/30: train_acc=96.20%\n",
      "Epoch 5/30: train_acc=96.75%\n",
      "Epoch 6/30: train_acc=97.22%\n",
      "Epoch 7/30: train_acc=97.55%\n",
      "Epoch 8/30: train_acc=97.88%\n",
      "Epoch 9/30: train_acc=98.25%\n",
      "Epoch 10/30: train_acc=98.53%\n",
      "Epoch 11/30: train_acc=98.77%\n",
      "Epoch 12/30: train_acc=98.94%\n",
      "Epoch 13/30: train_acc=99.08%\n",
      "Epoch 14/30: train_acc=99.22%\n",
      "Epoch 15/30: train_acc=99.31%\n",
      "Epoch 16/30: train_acc=99.41%\n",
      "Epoch 17/30: train_acc=99.45%\n",
      "Epoch 18/30: train_acc=99.51%\n",
      "Epoch 19/30: train_acc=99.58%\n",
      "Epoch 20/30: train_acc=99.61%\n",
      "Epoch 21/30: train_acc=99.66%\n",
      "Epoch 22/30: train_acc=99.71%\n",
      "Epoch 23/30: train_acc=99.76%\n",
      "Epoch 24/30: train_acc=99.80%\n",
      "Epoch 25/30: train_acc=99.83%\n",
      "Epoch 26/30: train_acc=99.85%\n",
      "Epoch 27/30: train_acc=99.86%\n",
      "Epoch 28/30: train_acc=99.89%\n",
      "Epoch 29/30: train_acc=99.90%\n",
      "Epoch 30/30: train_acc=99.92%\n"
     ]
    }
   ],
   "source": [
    "# perform the training\n",
    "X_batches = []\n",
    "Y_batches = []\n",
    "acc_history_T=[]\n",
    "\n",
    "acc_history_Test=[]\n",
    "\n",
    "acc_valid=[]\n",
    "validation_losses=[]\n",
    "\n",
    "losses = []\n",
    "# print(train_Y.shape)\n",
    "# print(X_train.shape)\n",
    "num_batches = X_train.shape[1] // batch_size\n",
    "for i in range(num_batches-1):\n",
    "    \n",
    "    X_batches.append(X_train[:,batch_size*i:batch_size*i+batch_size])\n",
    "    Y_batches.append(Y_train[:,batch_size*i:batch_size*i+batch_size])\n",
    "    \n",
    "    ## we do not account for batches that leave remainders. Hence batch size should be a multiple of 10 for convinience.\n",
    "    \n",
    "pre_factor = learning_rate / batch_size \n",
    "\n",
    "for epoch in range(1,  no_epochs+1):\n",
    "    \n",
    "    # for each epoch train over all batches\n",
    "    for X_batch, Y_batch in zip(X_batches,Y_batches):\n",
    "    ## forward pass\n",
    "        # compute the output of the network for the batch\n",
    "#         print(W1.shape, X_batch.shape)\n",
    "        \n",
    "        output1 = W1 @ X_batch + b1  \n",
    "#         print(output1)\n",
    "        output2 = W2 @ relu(output1) + b2 \n",
    "        output3 = W3 @ relu(output2) + b3\n",
    "        Output = softmax(output3)\n",
    "#         print(Output)\n",
    "        \n",
    "     ## backward pass\n",
    "        # compute the derivatives dLdW and dLdb for the layers (use CE loss)\n",
    "        \n",
    "        dLdz3 = Output- Y_batch \n",
    "        dLdW3 = dLdz3@ relu(output2).T\n",
    "        \n",
    "        dLdz2= relu_diff(output2) * (W3.T@dLdz3) ## gradient of loss function (predicted - target probabilities = prediction error)\n",
    "        dLdW2 = dLdz2@ relu(output1).T\n",
    "\n",
    "        dLdz1= relu_diff(output1) *(W2.T@dLdz2)\n",
    "        dLdW1 = dLdz1@ X_batch.T\n",
    "\n",
    "#         dLdb1= dLdz1\n",
    "#         dLdb2= dLdz2\n",
    "#         dLdb3= dLdz3\n",
    "        \n",
    "#         n= len(dLdz1)\n",
    "#         dLdb1=1 / n * np.sum(dLdz1)\n",
    "#         m = len(dLdz2)\n",
    "#         dLdb2 = 1 / m * np.sum(dLdz2)   \n",
    "#         l = len(dLdz3)\n",
    "#         dLdb3 = 1 / l * np.sum(dLdz3)\n",
    "        dLdb3 = np.sum(dLdz3, axis=1, keepdims = True)\n",
    "        dLdb2 = np.sum(dLdz2, axis=1, keepdims = True)\n",
    "        dLdb1 = np.sum(dLdz1, axis=1, keepdims = True)\n",
    "        \n",
    "        # gradient descent step / update weights and biases\n",
    "        W3 = W3 - pre_factor * dLdW3\n",
    "        b3 = b3 - pre_factor * dLdb3\n",
    "        W2 = W2 - pre_factor * dLdW2\n",
    "        b2 = b2 - pre_factor * dLdb2\n",
    "        W1 = W1 - pre_factor * dLdW1\n",
    "        b1 = b1 - pre_factor * dLdb1\n",
    "\n",
    "    # for each epoch evaluate the network performance\n",
    "    # compute accuracy of train set and store for later analysis\n",
    "#     if epoch%10==0:\n",
    "    z1 = W1 @ X_train + b1\n",
    "    z2 = W2 @ relu(z1) + b2\n",
    "    z3 = W3 @ relu(z2) + b3\n",
    "    Output = softmax(z3)\n",
    "#     print(Output)\n",
    "    predicted_labels = np.argmax(Output, axis=0)\n",
    "#     print(\"predicts:\",predicted_labels)\n",
    "    true_labels = np.argmax(Y_train, axis=0)\n",
    "#     print(\"true labels:\",true_labels)\n",
    "    accuracy_T = np.mean(predicted_labels == true_labels)\n",
    "    acc_history_T.append(accuracy_T)\n",
    "    M = X_train.shape[1]\n",
    "\n",
    "    losses.append(-1/M * np.sum(Y_train*np.log(Output)))\n",
    "\n",
    "    print(f\"Epoch {epoch}/{no_epochs}: train_acc={accuracy_T:.2%}\")\n",
    "    z1 = W1 @ X_valid + b1\n",
    "    z2 = W2 @ relu(z1) + b2\n",
    "    z3 = W3 @ relu(z2) + b3\n",
    "    Output = softmax(z3)\n",
    "    predicted_labels = np.argmax(Output, axis=0)\n",
    "    true_labels = np.argmax(Y_valid, axis=0)\n",
    "    accuracy_valid = np.mean(predicted_labels == true_labels)\n",
    "    acc_valid.append(accuracy_valid)\n",
    "    validation_losses.append( -1/M * np.sum(Y_valid*np.log(Output)))\n",
    "\n",
    "\n",
    "     \n",
    "\n",
    "## It takes a long time to load results. "
   ]
  },
  {
   "cell_type": "markdown",
   "id": "5003e1b7-1f3e-4c54-86e4-76be40cc3d39",
   "metadata": {},
   "source": [
    "## 6. Analyze the result\n",
    "Make a plot of the training and validation loss and training and validation accuracy as function of the epoch."
   ]
  },
  {
   "cell_type": "code",
   "execution_count": 17,
   "id": "e3a2e92f-62ae-456b-aa55-921458320ab0",
   "metadata": {},
   "outputs": [
    {
     "name": "stdout",
     "output_type": "stream",
     "text": [
      "30\n"
     ]
    },
    {
     "data": {
      "image/png": "[encoded data removed]",
      "text/plain": [
       "<Figure size 640x480 with 1 Axes>"
      ]
     },
     "metadata": {},
     "output_type": "display_data"
    },
    {
     "data": {
      "text/plain": [
       "<matplotlib.legend.Legend at 0x191219ebbb0>"
      ]
     },
     "execution_count": 17,
     "metadata": {},
     "output_type": "execute_result"
    },
    {
     "data": {
      "image/png": "[encoded data removed]",
      "text/plain": [
       "<Figure size 640x480 with 1 Axes>"
      ]
     },
     "metadata": {},
     "output_type": "display_data"
    }
   ],
   "source": [
    "# # plot the loss and accuracy as function of the epoch number\n",
    "# validation_losses=[]\n",
    "# ## validation accuracy\n",
    "# z1 = W1 @ X_valid + b1\n",
    "# z2 = W2 @ relu(z1) + b2\n",
    "# z3 = W3 @ relu(z2) + b3\n",
    "# Output = softmax(z3)\n",
    "# predicted_labels = np.argmax(Output, axis=0)\n",
    "# print(\"predicts:\",predicted_labels)\n",
    "# true_labels = np.argmax(Y_valid, axis=0)\n",
    "# print(\"true labels:\",true_labels)\n",
    "# accuracy_T = np.mean(predicted_labels == true_labels)\n",
    "# acc_history_T.append(accuracy_T)\n",
    "# M = X_valid.shape[1]\n",
    "# validation_losses.append( -1/M * np.sum(Y_valid*np.log(Output)))\n",
    "\n",
    "\n",
    "# print(acc_history_V)\n",
    "print(len(losses))\n",
    "plt.scatter(range(no_epochs),losses, marker='.',color='blue',label='Training loss')\n",
    "plt.scatter(range(no_epochs),validation_losses, marker='.',color='red',label='Validation loss')\n",
    "plt.legend()\n",
    "plt.show()\n",
    "## plot for training accuracy\n",
    "plt.scatter(range(no_epochs),acc_history_T, marker='.', color ='blue',label='Training Accuracy')\n",
    "plt.scatter(range(no_epochs),acc_valid, marker='.', color ='red',label='Validation Accuracy')\n",
    "plt.legend()"
   ]
  },
  {
   "cell_type": "markdown",
   "id": "1794c29b-bae6-4c52-9b3c-25277a1a6d0d",
   "metadata": {},
   "source": [
    "Adapt the hyperparameters and/or NN layout to try to improve the result."
   ]
  },
  {
   "cell_type": "markdown",
   "id": "87619684-6615-485b-9660-9f3193370428",
   "metadata": {},
   "source": [
    "Finally use the test set to check the performance of the model"
   ]
  },
  {
   "cell_type": "code",
   "execution_count": 11,
   "id": "3ba43646-1bef-49b1-8c63-2fc5311ec292",
   "metadata": {},
   "outputs": [
    {
     "name": "stdout",
     "output_type": "stream",
     "text": [
      "predicts: [5 0 4 ... 2 1 2]\n",
      "true labels: [5 0 4 ... 2 1 2]\n",
      "[0.9802]\n",
      "0.007214199692370165\n"
     ]
    }
   ],
   "source": [
    "# compute the accuracy and losses of the test set\n",
    "\n",
    "z1 = W1 @ X_test + b1\n",
    "z2 = W2 @ relu(z1) + b2\n",
    "z3 = W3 @ relu(z2) + b3\n",
    "Output = softmax(z3)\n",
    "predicted_labels = np.argmax(Output, axis=0)\n",
    "print(\"predicts:\",predicted_labels)\n",
    "true_labels = np.argmax(Y_test, axis=0)\n",
    "print(\"true labels:\",true_labels)\n",
    "accuracy_Test = np.mean(predicted_labels == true_labels)\n",
    "acc_history_Test.append(accuracy_Test)\n",
    "\n",
    "print(acc_history_Test)\n",
    "print( -1/M * np.sum(Y_test*np.log(Output)))"
   ]
  },
  {
   "cell_type": "markdown",
   "id": "f746882f-babf-4f5f-8afb-02c45bd6af6f",
   "metadata": {},
   "source": [
    "Finally it is interesting to check a few samples and their predicted label"
   ]
  },
  {
   "cell_type": "code",
   "execution_count": 12,
   "id": "eb13294a-1cd4-499f-9ee3-274268d5c305",
   "metadata": {},
   "outputs": [
    {
     "name": "stdout",
     "output_type": "stream",
     "text": [
      "Label: 1, Prediction: 1\n",
      "Label: 3, Prediction: 3\n",
      "Label: 3, Prediction: 3\n",
      "Label: 1, Prediction: 1\n",
      "Label: 2, Prediction: 2\n",
      "Label: 5, Prediction: 5\n",
      "Label: 6, Prediction: 6\n",
      "Label: 4, Prediction: 4\n",
      "Label: 1, Prediction: 1\n",
      "Label: 1, Prediction: 1\n"
     ]
    }
   ],
   "source": [
    "# check the prediction of 10 random images\n",
    "index = np.random.randint(len(predicted_labels), size=10)\n",
    "predicted_label = []\n",
    "true_label = []\n",
    "\n",
    "for i in index:\n",
    "    predicted_label.append(predicted_labels[i]) \n",
    "    true_label.append(true_labels[i])  \n",
    "    print(f\"Label: {true_label[-1]}, Prediction: {predicted_label[-1]}\")\n"
   ]
  },
  {
   "cell_type": "code",
   "execution_count": null,
   "id": "efe0b719-b1b3-43c4-8391-838d4dde0d34",
   "metadata": {},
   "outputs": [],
   "source": []
  }
 ],
 "metadata": {
  "kernelspec": {
   "display_name": "Python 3 (ipykernel)",
   "language": "python",
   "name": "python3"
  },
  "language_info": {
   "codemirror_mode": {
    "name": "ipython",
    "version": 3
   },
   "file_extension": ".py",
   "mimetype": "text/x-python",
   "name": "python",
   "nbconvert_exporter": "python",
   "pygments_lexer": "ipython3",
   "version": "3.9.13"
  }
 },
 "nbformat": 4,
 "nbformat_minor": 5
}
